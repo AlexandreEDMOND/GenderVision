{
 "cells": [
  {
   "cell_type": "markdown",
   "metadata": {},
   "source": [
    "# Import"
   ]
  },
  {
   "cell_type": "code",
   "execution_count": null,
   "metadata": {},
   "outputs": [],
   "source": [
    "import os\n",
    "\n",
    "import matplotlib.pyplot as plt\n",
    "import matplotlib.image as mpimg\n",
    "\n",
    "import numpy as np\n",
    "from PIL import Image\n",
    "\n",
    "from sklearn.model_selection import train_test_split\n",
    "from sklearn.ensemble import RandomForestClassifier\n",
    "from sklearn.metrics import classification_report, accuracy_score\n",
    "from sklearn.preprocessing import LabelEncoder"
   ]
  },
  {
   "cell_type": "markdown",
   "metadata": {},
   "source": [
    "# Chargement des données"
   ]
  },
  {
   "cell_type": "code",
   "execution_count": null,
   "metadata": {},
   "outputs": [],
   "source": [
    "# Read the dataset path from the file\n",
    "with open('dataset_path.txt', 'r') as file:\n",
    "    dataset_path = file.read().strip()\n",
    "\n",
    "print(f\"Dataset path: {dataset_path}\")"
   ]
  },
  {
   "cell_type": "code",
   "execution_count": null,
   "metadata": {},
   "outputs": [],
   "source": [
    "# Chemins vers les dossiers contenant les images\n",
    "male_faces_path = os.path.join(dataset_path, 'Male Faces')\n",
    "female_faces_path = os.path.join(dataset_path, 'Female Faces')\n",
    "\n",
    "# Lister les fichiers d'images dans chaque dossier\n",
    "male_faces_files = os.listdir(male_faces_path)[:5]\n",
    "female_faces_files = os.listdir(female_faces_path)[:5]"
   ]
  },
  {
   "cell_type": "code",
   "execution_count": null,
   "metadata": {},
   "outputs": [],
   "source": [
    "# Afficher les 5 premières images de chaque dossier\n",
    "fig, axes = plt.subplots(2, 5, figsize=(15, 6))\n",
    "\n",
    "for i, file in enumerate(male_faces_files):\n",
    "    img = mpimg.imread(os.path.join(male_faces_path, file))\n",
    "    axes[0, i].imshow(img)\n",
    "    axes[0, i].axis('off')\n",
    "    axes[0, i].set_title(f'Male {i+1}')\n",
    "\n",
    "for i, file in enumerate(female_faces_files):\n",
    "    img = mpimg.imread(os.path.join(female_faces_path, file))\n",
    "    axes[1, i].imshow(img)\n",
    "    axes[1, i].axis('off')\n",
    "    axes[1, i].set_title(f'Female {i+1}')\n",
    "\n",
    "plt.show()"
   ]
  },
  {
   "cell_type": "code",
   "execution_count": null,
   "metadata": {},
   "outputs": [],
   "source": [
    "# Fonction pour charger les images et les convertir en vecteurs\n",
    "def load_images(data_dir, categories, image_size=(128, 128)):\n",
    "    valid_extensions = ('.jpg', '.jpeg', '.png')\n",
    "    X = []\n",
    "    y = []\n",
    "    for category in categories:\n",
    "        category_path = os.path.join(data_dir, category)\n",
    "        for file_name in os.listdir(category_path):\n",
    "            if file_name.endswith(valid_extensions):\n",
    "                file_path = os.path.join(category_path, file_name)\n",
    "                try:\n",
    "                    # Ouvrir l'image et redimensionner\n",
    "                    img = Image.open(file_path).convert('RGB')\n",
    "                    img = img.resize(image_size)\n",
    "                    \n",
    "                    # Convertir en numpy array et aplatir\n",
    "                    img_array = np.array(img).flatten()\n",
    "                    X.append(img_array)\n",
    "                    y.append(category)\n",
    "                except Exception as e:\n",
    "                    print(f\"Erreur avec le fichier {file_path}: {e}\")\n",
    "    return np.array(X), np.array(y)"
   ]
  },
  {
   "cell_type": "code",
   "execution_count": null,
   "metadata": {},
   "outputs": [],
   "source": [
    "categories = ['Male Faces', 'Female Faces']\n",
    "\n",
    "# Charger les données\n",
    "image_size = (128, 128)  # Taille à laquelle redimensionner les images\n",
    "X, y = load_images(dataset_path, categories, image_size)"
   ]
  },
  {
   "cell_type": "code",
   "execution_count": null,
   "metadata": {},
   "outputs": [],
   "source": [
    "X.shape, y.shape"
   ]
  },
  {
   "cell_type": "markdown",
   "metadata": {},
   "source": [
    "# Traitement des données"
   ]
  },
  {
   "cell_type": "code",
   "execution_count": null,
   "metadata": {},
   "outputs": [],
   "source": [
    "# Encoder les labels\n",
    "le = LabelEncoder()\n",
    "y_encoded = le.fit_transform(y)"
   ]
  },
  {
   "cell_type": "markdown",
   "metadata": {},
   "source": [
    "# Création d'un dataset d'entraînement"
   ]
  },
  {
   "cell_type": "code",
   "execution_count": null,
   "metadata": {},
   "outputs": [],
   "source": [
    "# Diviser les données en ensembles d'entraînement et de test\n",
    "X_train, X_test, y_train, y_test = train_test_split(X, y_encoded, test_size=0.2, random_state=42, stratify=y_encoded)"
   ]
  },
  {
   "cell_type": "markdown",
   "metadata": {},
   "source": [
    "# Création d'un modèle de Machine Learning (classification)"
   ]
  },
  {
   "cell_type": "code",
   "execution_count": null,
   "metadata": {},
   "outputs": [],
   "source": [
    "# Créer le modèle Random Forest\n",
    "rf_model = RandomForestClassifier(n_estimators=10, random_state=42)"
   ]
  },
  {
   "cell_type": "markdown",
   "metadata": {},
   "source": [
    "# Entrainement"
   ]
  },
  {
   "cell_type": "code",
   "execution_count": null,
   "metadata": {},
   "outputs": [],
   "source": [
    "rf_model.fit(X_train, y_train)"
   ]
  },
  {
   "cell_type": "markdown",
   "metadata": {},
   "source": [
    "# Evaluation résultat"
   ]
  },
  {
   "cell_type": "code",
   "execution_count": null,
   "metadata": {},
   "outputs": [],
   "source": [
    "# Prédictions\n",
    "y_pred = rf_model.predict(X_test)\n",
    "\n",
    "# Évaluer le modèle\n",
    "print(\"Rapport de classification:\")\n",
    "print(classification_report(y_test, y_pred, target_names=categories))\n",
    "print(\"Précision:\", accuracy_score(y_test, y_pred))"
   ]
  }
 ],
 "metadata": {
  "kernelspec": {
   "display_name": "venv_gendervision",
   "language": "python",
   "name": "python3"
  },
  "language_info": {
   "codemirror_mode": {
    "name": "ipython",
    "version": 3
   },
   "file_extension": ".py",
   "mimetype": "text/x-python",
   "name": "python",
   "nbconvert_exporter": "python",
   "pygments_lexer": "ipython3",
   "version": "3.12.3"
  }
 },
 "nbformat": 4,
 "nbformat_minor": 2
}
